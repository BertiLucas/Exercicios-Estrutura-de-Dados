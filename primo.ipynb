{
  "nbformat": 4,
  "nbformat_minor": 0,
  "metadata": {
    "colab": {
      "name": "primo.ipynb",
      "provenance": [],
      "authorship_tag": "ABX9TyO8ZjcIHBPnDr9ZCJuoD6Mu",
      "include_colab_link": true
    },
    "kernelspec": {
      "name": "python3",
      "display_name": "Python 3"
    },
    "language_info": {
      "name": "python"
    }
  },
  "cells": [
    {
      "cell_type": "markdown",
      "metadata": {
        "id": "view-in-github",
        "colab_type": "text"
      },
      "source": [
        "<a href=\"https://colab.research.google.com/github/BertiLucas/Exercicios-Estrutura-de-Dados/blob/main/primo.ipynb\" target=\"_parent\"><img src=\"https://colab.research.google.com/assets/colab-badge.svg\" alt=\"Open In Colab\"/></a>"
      ]
    },
    {
      "cell_type": "code",
      "execution_count": 4,
      "metadata": {
        "colab": {
          "base_uri": "https://localhost:8080/"
        },
        "id": "4eSdtAkNVzmK",
        "outputId": "45a49a21-d12d-4cd4-819d-02e541d5a13b"
      },
      "outputs": [
        {
          "output_type": "stream",
          "name": "stdout",
          "text": [
            "Digite um número: 10\n",
            "Números primos:  [1, 3, 5, 7, 9]\n"
          ]
        }
      ],
      "source": [
        "numero = int(input(\"Digite um número: \"))\n",
        "lista = []\n",
        "\n",
        "for i in range(numero + 1):\n",
        "    if i % 2 == 1 and i != 2:\n",
        "        lista.append(i)\n",
        "\n",
        "print(\"Números primos: \", lista)"
      ]
    }
  ]
}