{
  "nbformat": 4,
  "nbformat_minor": 0,
  "metadata": {
    "colab": {
      "name": "altura_e_idadeipynb",
      "provenance": [],
      "authorship_tag": "ABX9TyNZZt/Q1qHTMvQZFjAZPsjI",
      "include_colab_link": true
    },
    "kernelspec": {
      "name": "python3",
      "display_name": "Python 3"
    },
    "language_info": {
      "name": "python"
    }
  },
  "cells": [
    {
      "cell_type": "markdown",
      "metadata": {
        "id": "view-in-github",
        "colab_type": "text"
      },
      "source": [
        "<a href=\"https://colab.research.google.com/github/BertiLucas/Exercicios-Estrutura-de-Dados/blob/main/altura_e_idadeipynb.ipynb\" target=\"_parent\"><img src=\"https://colab.research.google.com/assets/colab-badge.svg\" alt=\"Open In Colab\"/></a>"
      ]
    },
    {
      "cell_type": "code",
      "execution_count": null,
      "metadata": {
        "colab": {
          "base_uri": "https://localhost:8080/"
        },
        "id": "cU92-UGTYana",
        "outputId": "b2d8ba0f-fb37-48c5-d5fa-29e11e177c96"
      },
      "outputs": [
        {
          "output_type": "stream",
          "name": "stdout",
          "text": [
            "1º Pessoa\n",
            "Digite a idade: 50\n",
            "Digite a altura: 1.70\n",
            "2º Pessoa\n",
            "Digite a idade: 30\n",
            "Digite a altura: 1.80\n",
            "3º Pessoa\n",
            "Digite a idade: 25\n",
            "Digite a altura: 1.78\n",
            "4º Pessoa\n",
            "Digite a idade: 26\n",
            "Digite a altura: 1.89\n",
            "5º Pessoa\n",
            "Digite a idade: 70\n",
            "Digite a altura: 1.56\n",
            "Ordem inversa\n",
            "Alturas\n",
            "[1.56, 1.89, 1.78, 1.8, 1.7]\n",
            "Idades\n",
            "[70, 26, 25, 30, 50]\n",
            "Ordem lida\n",
            "Alturas\n",
            "[1.7, 1.8, 1.78, 1.89, 1.56]\n",
            "Idades\n",
            "[50, 30, 25, 26, 70]\n"
          ]
        }
      ],
      "source": [
        "idades = []\n",
        "alturas = []\n",
        "\n",
        "for i in range(1,6):\n",
        "    print(\"%dº Pessoa\" %i)\n",
        "    idade = int(input(\"Digite a idade: \"))\n",
        "    altura = float(input(\"Digite a altura: \"))\n",
        "    idades.append(idade)\n",
        "    alturas.append(altura)\n",
        "\n",
        "print(\"Ordem inversa\")\n",
        "print(\"Alturas\")\n",
        "print(alturas[::-1])\n",
        "print(\"Idades\")\n",
        "print(idades[::-1])\n",
        "\n",
        "print(\"Ordem lida\")\n",
        "print(\"Alturas\")\n",
        "print(alturas)\n",
        "\n",
        "print(\"Idades\")\n",
        "print(idades)"
      ]
    }
  ]
}